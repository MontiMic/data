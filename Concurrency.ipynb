{
  "nbformat": 4,
  "nbformat_minor": 0,
  "metadata": {
    "colab": {
      "provenance": [],
      "authorship_tag": "ABX9TyPw4j4GfLBpDw4LlQYPPnir",
      "include_colab_link": true
    },
    "kernelspec": {
      "name": "python3",
      "display_name": "Python 3"
    },
    "language_info": {
      "name": "python"
    }
  },
  "cells": [
    {
      "cell_type": "markdown",
      "metadata": {
        "id": "view-in-github",
        "colab_type": "text"
      },
      "source": [
        "<a href=\"https://colab.research.google.com/github/MontiMic/data/blob/main/Concurrency.ipynb\" target=\"_parent\"><img src=\"https://colab.research.google.com/assets/colab-badge.svg\" alt=\"Open In Colab\"/></a>"
      ]
    },
    {
      "cell_type": "markdown",
      "source": [
        "# Programmazione Concorrente"
      ],
      "metadata": {
        "id": "0V4Txk3jJt_3"
      }
    },
    {
      "cell_type": "code",
      "source": [
        "import threading\n",
        "import time"
      ],
      "metadata": {
        "id": "c-UTZn2aKskJ"
      },
      "execution_count": null,
      "outputs": []
    },
    {
      "cell_type": "markdown",
      "source": [
        "Cominciamo definendo una funzione che stampa 5 volte la stringa \"Hello, World!\""
      ],
      "metadata": {
        "id": "yDEs2DI6Qf8B"
      }
    },
    {
      "cell_type": "code",
      "source": [
        "def hello_world():\n",
        "  for i in range(5):\n",
        "    print(\"Hello, World!\")"
      ],
      "metadata": {
        "id": "Gva-wMfFRZsT"
      },
      "execution_count": null,
      "outputs": []
    },
    {
      "cell_type": "markdown",
      "source": [
        "In questo momento la funzione esiste, ma nessuno la sta usando. Creiamo un thread il cui scopo (o target) sarà di richiamare la funzione *hello_world()* e poi morire."
      ],
      "metadata": {
        "id": "XXMGqcAmnObe"
      }
    },
    {
      "cell_type": "code",
      "source": [
        "mythread = threading.Thread(target=hello_world)   #Creo il thread e gli assegno del lavoro\n",
        "mythread.start()  #Lancio il thread\n",
        "mythread.join()   #Aspetto che abbia finito"
      ],
      "metadata": {
        "colab": {
          "base_uri": "https://localhost:8080/"
        },
        "id": "ve6XRRGaMm98",
        "outputId": "2d08d7aa-bee3-4b09-91f3-5c0d7b8293ca"
      },
      "execution_count": null,
      "outputs": [
        {
          "output_type": "stream",
          "name": "stdout",
          "text": [
            "Hello, World!\n",
            "Hello, World!\n",
            "Hello, World!\n",
            "Hello, World!\n",
            "Hello, World!\n"
          ]
        }
      ]
    },
    {
      "cell_type": "markdown",
      "source": [
        "##Ping pong game\n",
        "Ora pensiamo di voler creare un gioco dove due utenti devono rimbalzarsi la palla avanti e indietro.\n",
        "\n",
        "Per farlo creiamo due thread che lanceremo parallelamente. Purtroppo non abbbiamo nessuna garanzia che sia rispettato l'ordine che desideriamo, e di fatto, se i processi hanno durate diverse incorreremo in questo errore."
      ],
      "metadata": {
        "id": "npu48sWaRxxz"
      }
    },
    {
      "cell_type": "code",
      "source": [
        "def play_ping():\n",
        "    for i in range(5):\n",
        "        print(\"Ping\")\n",
        "        time.sleep(1)   #Il primo thread ha una sleep di un secondo\n",
        "\n",
        "def play_pong():\n",
        "    for i in range(5):\n",
        "        print(\"Pong\")\n",
        "        time.sleep(3)   #Il secondo ha una sleep di 3 secondi"
      ],
      "metadata": {
        "id": "62Jh71EATmgz"
      },
      "execution_count": null,
      "outputs": []
    },
    {
      "cell_type": "code",
      "source": [
        "ping_thread = threading.Thread(target=play_ping)\n",
        "pong_thread = threading.Thread(target=play_pong)\n",
        "\n",
        "ping_thread.start()\n",
        "pong_thread.start()\n",
        "\n",
        "ping_thread.join()\n",
        "pong_thread.join()"
      ],
      "metadata": {
        "colab": {
          "base_uri": "https://localhost:8080/"
        },
        "id": "zBJ29_7qOhpo",
        "outputId": "9447c1a6-3b8f-4671-a7d8-d3b4c74b110a"
      },
      "execution_count": null,
      "outputs": [
        {
          "output_type": "stream",
          "name": "stdout",
          "text": [
            "Ping\n",
            "Pong\n",
            "Ping\n",
            "Ping\n",
            "Ping\n",
            "Pong\n",
            "Ping\n",
            "Pong\n",
            "Pong\n",
            "Pong\n"
          ]
        }
      ]
    },
    {
      "cell_type": "markdown",
      "source": [
        "Soluzione: definiamo la mutex ed un flag:"
      ],
      "metadata": {
        "id": "pjPiJka8o3W1"
      }
    },
    {
      "cell_type": "code",
      "execution_count": null,
      "metadata": {
        "id": "kHY8FEjK18et"
      },
      "outputs": [],
      "source": [
        "class PingPongGame:\n",
        "    def __init__(self):\n",
        "        self.mutex = threading.Lock()\n",
        "        self.ping_turn = True\n",
        "\n",
        "    def play_ping(self):\n",
        "        for i in range(5):\n",
        "            with self.mutex:\n",
        "                while not self.ping_turn:\n",
        "                    self.mutex.release()\n",
        "                    time.sleep(0.1)  # Sleep to avoid busy waiting\n",
        "                    self.mutex.acquire()\n",
        "\n",
        "                print(\"Ping\")\n",
        "                self.ping_turn = False\n",
        "\n",
        "            time.sleep(1)\n",
        "\n",
        "    def play_pong(self):\n",
        "        for i in range(5):\n",
        "            with self.mutex:\n",
        "                while self.ping_turn:\n",
        "                    self.mutex.release()\n",
        "                    time.sleep(0.1)  # Sleep to avoid busy waiting\n",
        "                    self.mutex.acquire()\n",
        "\n",
        "                print(\"Pong\")\n",
        "                self.ping_turn = True\n",
        "\n",
        "            time.sleep(3)"
      ]
    },
    {
      "cell_type": "code",
      "source": [
        "game = PingPongGame()\n",
        "\n",
        "ping_thread = threading.Thread(target=game.play_ping)\n",
        "pong_thread = threading.Thread(target=game.play_pong)\n",
        "\n",
        "ping_thread.start()\n",
        "pong_thread.start()\n",
        "\n",
        "ping_thread.join()\n",
        "pong_thread.join()"
      ],
      "metadata": {
        "id": "rNHR5T8G19Yw",
        "colab": {
          "base_uri": "https://localhost:8080/"
        },
        "outputId": "e5167140-e81c-4d5c-cf06-f90189cf89b5"
      },
      "execution_count": null,
      "outputs": [
        {
          "output_type": "stream",
          "name": "stdout",
          "text": [
            "Ping\n",
            "Pong\n",
            "Ping\n",
            "Pong\n",
            "Ping\n",
            "Pong\n",
            "Ping\n",
            "Pong\n",
            "Ping\n",
            "Pong\n"
          ]
        }
      ]
    },
    {
      "cell_type": "markdown",
      "source": [
        "Perchè servono sia la mutex sia il flag? Non ne basta uno solo dei due?"
      ],
      "metadata": {
        "id": "cROwwtkMpFXY"
      }
    },
    {
      "cell_type": "markdown",
      "source": [
        "Esercizio:\n",
        "Sulla traccia del gioco ping pong aiutiamo Fra Martino a suonare le campane"
      ],
      "metadata": {
        "id": "VbzR0e12pOKS"
      }
    },
    {
      "cell_type": "code",
      "source": [],
      "metadata": {
        "id": "Ed3fo6KUUmz3"
      },
      "execution_count": null,
      "outputs": []
    }
  ]
}