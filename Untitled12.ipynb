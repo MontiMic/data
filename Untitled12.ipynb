{
  "nbformat": 4,
  "nbformat_minor": 0,
  "metadata": {
    "colab": {
      "provenance": [],
      "authorship_tag": "ABX9TyMm6h1RtCxnpIkMThSzCnkq",
      "include_colab_link": true
    },
    "kernelspec": {
      "name": "python3",
      "display_name": "Python 3"
    },
    "language_info": {
      "name": "python"
    }
  },
  "cells": [
    {
      "cell_type": "markdown",
      "metadata": {
        "id": "view-in-github",
        "colab_type": "text"
      },
      "source": [
        "<a href=\"https://colab.research.google.com/github/MontiMic/data/blob/main/Untitled12.ipynb\" target=\"_parent\"><img src=\"https://colab.research.google.com/assets/colab-badge.svg\" alt=\"Open In Colab\"/></a>"
      ]
    },
    {
      "cell_type": "code",
      "execution_count": null,
      "metadata": {
        "id": "yq_fAC92uR5U"
      },
      "outputs": [],
      "source": [
        "class FraMartinoGame:\n",
        "    def __init__(self):\n",
        "        self.mutex = threading.Lock()\n",
        "        self.bell_turn = 0\n",
        "        print(\"Suona le campane...\")\n",
        "\n",
        "    def din(self):\n",
        "        for _ in range(2):\n",
        "            with self.mutex:\n",
        "                while self.bell_turn != 0:\n",
        "                    self.mutex.release()\n",
        "                    time.sleep(0.1)  # Sleep to avoid busy waiting\n",
        "                    self.mutex.acquire()\n",
        "\n",
        "                print(\"Din\")\n",
        "                self.bell_turn = 1\n",
        "\n",
        "            time.sleep(1)\n",
        "\n",
        "    def don(self):\n",
        "        for _ in range(2):\n",
        "            with self.mutex:\n",
        "                while self.bell_turn != 1:\n",
        "                    self.mutex.release()\n",
        "                    time.sleep(0.1)  # Sleep to avoid busy waiting\n",
        "                    self.mutex.acquire()\n",
        "\n",
        "                print(\"Don\")\n",
        "                self.bell_turn = 2\n",
        "\n",
        "            time.sleep(3)\n",
        "\n",
        "    def dan(self):\n",
        "        for _ in range(2):\n",
        "            with self.mutex:\n",
        "                while self.bell_turn != 2:\n",
        "                    self.mutex.release()\n",
        "                    time.sleep(0.1)  # Sleep to avoid busy waiting\n",
        "                    self.mutex.acquire()\n",
        "\n",
        "                print(\"Dan\")\n",
        "                self.bell_turn = 0\n",
        "\n",
        "            time.sleep(2)"
      ]
    },
    {
      "cell_type": "code",
      "source": [
        "game = FraMartinoGame()\n",
        "\n",
        "din_thread = threading.Thread(target=game.din)\n",
        "don_thread = threading.Thread(target=game.don)\n",
        "dan_thread = threading.Thread(target=game.dan)\n",
        "\n",
        "dan_thread.start()\n",
        "don_thread.start()\n",
        "din_thread.start()\n",
        "\n",
        "dan_thread.join()\n",
        "don_thread.join()\n",
        "din_thread.join()"
      ],
      "metadata": {
        "id": "Vjhf9b3p_ImZ"
      },
      "execution_count": null,
      "outputs": []
    }
  ]
}